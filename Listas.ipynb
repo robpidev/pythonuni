{
 "cells": [
  {
   "cell_type": "markdown",
   "metadata": {},
   "source": [
    "# Listas"
   ]
  },
  {
   "cell_type": "markdown",
   "metadata": {},
   "source": [
    "## 1. Definiendo listas"
   ]
  },
  {
   "cell_type": "code",
   "execution_count": 1,
   "metadata": {},
   "outputs": [
    {
     "name": "stdout",
     "output_type": "stream",
     "text": [
      "La lista de numeros:  [1, 2, 3, 4, 5]\n",
      "Lista 2:  [4, 3, 2, 4, 5]\n",
      "Numeros:  [1, 2, 3, 4, 5] , Lista 2:  [4, 3, 2, 4, 5]\n"
     ]
    }
   ],
   "source": [
    "# Listas\n",
    "numeros = [1, 2, 3, 4, 5]\n",
    "\n",
    "# Puedo verlos en consola\n",
    "print(\"La lista de numeros: \", numeros)\n",
    "\n",
    "# Creando una segunda lista\n",
    "lista2 = [4, 3, 2, 4, 5]\n",
    "print(\"Lista 2: \", lista2)\n",
    "\n",
    "# Imprimiendo las 2 listas\n",
    "print(\"Numeros: \", numeros, \", Lista 2: \", lista2)\n"
   ]
  },
  {
   "cell_type": "markdown",
   "metadata": {},
   "source": [
    "Listas con cadenas de texto"
   ]
  },
  {
   "cell_type": "code",
   "execution_count": 1,
   "metadata": {},
   "outputs": [
    {
     "name": "stdout",
     "output_type": "stream",
     "text": [
      "Nombres:  ['Juan', 'Pedro', 'Maria']\n"
     ]
    }
   ],
   "source": [
    "\n",
    "# Listas de tipo cadenas de texto (strings)\n",
    "nombres = [\"Juan\", \"Pedro\", \"Maria\"]\n",
    "print(\"Nombres: \", nombres)"
   ]
  },
  {
   "cell_type": "markdown",
   "metadata": {},
   "source": [
    "### Longitud de una lista"
   ]
  },
  {
   "cell_type": "code",
   "execution_count": 17,
   "metadata": {},
   "outputs": [
    {
     "name": "stdout",
     "output_type": "stream",
     "text": [
      "La longitud es:  4\n"
     ]
    }
   ],
   "source": [
    "numeros = [1, 2, 3, 4]\n",
    "print(\"La longitud es: \", len(numeros))"
   ]
  },
  {
   "cell_type": "markdown",
   "metadata": {},
   "source": [
    "## 2. Acceso a las listas"
   ]
  },
  {
   "cell_type": "code",
   "execution_count": 7,
   "metadata": {},
   "outputs": [
    {
     "name": "stdout",
     "output_type": "stream",
     "text": [
      "El primer elemento: 4\n",
      "El primer elemento desde atras:  4\n",
      "Antes de cambiar el elemento 3:  [4, 5, 7, 8, 5, 10]\n",
      "Despues de cambiar el elemento 3:  [4, 5, 7, 24, 5, 10]\n",
      "Despues de cambiar el elemento -4:  [4, 5, 38, 24, 5, 10]\n"
     ]
    }
   ],
   "source": [
    "#          0  1  2  3  4   5\n",
    "numeros = [4, 5, 7, 8, 5, 10]\n",
    "#         -6 -5 -4 -3 -2  -1\n",
    "\n",
    "# Accediendo a un elemnto por posicion: nombre_lista[indice]\n",
    "\n",
    "print(\"El primer elemento:\", numeros[0])\n",
    "print(\"El primer elemento desde atras: \", numeros[-6])\n",
    "\n",
    "# Cambiando el valor de un elemento: nombre_lista[indice] = nuevo_valor\n",
    "print(\"Antes de cambiar el elemento 3: \", numeros)\n",
    "numeros[3] = 24\n",
    "print(\"Despues de cambiar el elemento 3: \", numeros)\n",
    "\n",
    "# cambiando el elemento -4 a 38\n",
    "numeros[-4] = 38\n",
    "print(\"Despues de cambiar el elemento -4: \", numeros)\n"
   ]
  },
  {
   "cell_type": "markdown",
   "metadata": {},
   "source": [
    "### Rebanadas o Slices"
   ]
  },
  {
   "cell_type": "markdown",
   "metadata": {},
   "source": [
    "```python\n",
    "nombre_lista[inicio:fin:paso] => sublista\n",
    "```\n",
    "\n",
    "por defecto (i.e si no se pone)\n",
    "* paso = 1\n",
    "* inicio = 0\n",
    "* fin = longitud de la lista"
   ]
  },
  {
   "cell_type": "code",
   "execution_count": 30,
   "metadata": {},
   "outputs": [
    {
     "name": "stdout",
     "output_type": "stream",
     "text": [
      "Toda la lista [4, 5, 7, 8, 5, 10, 1]\n",
      "Los tres primeros:  [4, 5, 7]\n",
      "Los tres primeros:  [4, 5, 7]\n",
      "Los dos ultimos:  [5, 10, 1]\n",
      "Los dos ultimos:  [5, 10, 1]\n"
     ]
    }
   ],
   "source": [
    "#          0  1  2  3  4   5  6\n",
    "numeros = [4, 5, 7, 8, 5, 10, 1]\n",
    "#         -7 -6 -5 -4 -3 -2  -1\n",
    "\n",
    "# Toda la lista\n",
    "print(\"Toda la lista\", numeros)\n",
    "# print(\"Toda la lista\", numeros[:])\n",
    "# print(\"Toda la lista\", numeros[0:])\n",
    "# print(\"Toda la lista\", numeros[:len(numeros)])\n",
    "# print(\"Toda la lista\", numeros[0:len(numeros)])\n",
    "# \n",
    "# print(\"Toda la lista\", numeros[::])\n",
    "# print(\"Toda la lista\", numeros[::1])\n",
    "# print(\"Toda la lista\", numeros[0::1])\n",
    "# print(\"Toda la lista\", numeros[:len(numeros):1])\n",
    "# print(\"Toda la lista\", numeros[0:len(numeros):1])\n",
    "\n",
    "# Los tres primeros\n",
    "print(\"Los tres primeros: \", numeros[0:3])\n",
    "print(\"Los tres primeros: \", numeros[:3])\n",
    "\n",
    "# Los dos ultimos\n",
    "print(\"Los dos ultimos: \", numeros[-3:])\n",
    "print(\"Los dos ultimos: \", numeros[4:])\n"
   ]
  },
  {
   "cell_type": "code",
   "execution_count": 35,
   "metadata": {},
   "outputs": [
    {
     "name": "stdout",
     "output_type": "stream",
     "text": [
      "Desde 3 hasta el 61:  [4, 5, 6, 7, 13, 41, 13, 61]\n",
      "Posicion impar:  [3, 5, 7, 41, 61]\n",
      "Posicion par:  [3, 4, 6, 13, 13, 31]\n"
     ]
    }
   ],
   "source": [
    "numeros = [3, 3, 4, 5, 6, 7, 13, 41, 13, 61, 31]\n",
    "\n",
    "\n",
    "# Desde el segundo hasta el penultimo: [3, ..., 61]\n",
    "print(\"Desde 3 hasta el 61: \", numeros[2:-1])\n",
    "\n",
    "# Los elementos de la posicion impar: [3, 5, 6, ...]\n",
    "print(\"Posicion impar: \", numeros[1::2])\n",
    "\n",
    "# Elementos de la posicion par\n",
    "print(\"Posicion par: \", numeros[::2])"
   ]
  },
  {
   "cell_type": "markdown",
   "metadata": {},
   "source": [
    "## 2. Manejo de lsitas"
   ]
  },
  {
   "cell_type": "code",
   "execution_count": null,
   "metadata": {},
   "outputs": [],
   "source": [
    "numeros = [2, 3, 5, 7]\n",
    "\n",
    "# Quiero agregar otro numero\n",
    "\n"
   ]
  }
 ],
 "metadata": {
  "kernelspec": {
   "display_name": "Python 3",
   "language": "python",
   "name": "python3"
  },
  "language_info": {
   "codemirror_mode": {
    "name": "ipython",
    "version": 3
   },
   "file_extension": ".py",
   "mimetype": "text/x-python",
   "name": "python",
   "nbconvert_exporter": "python",
   "pygments_lexer": "ipython3",
   "version": "3.12.2"
  }
 },
 "nbformat": 4,
 "nbformat_minor": 2
}
