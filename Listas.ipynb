{
 "cells": [
  {
   "cell_type": "markdown",
   "metadata": {},
   "source": [
    "# Listas"
   ]
  },
  {
   "cell_type": "markdown",
   "metadata": {},
   "source": [
    "## 1. Definiendo listas"
   ]
  },
  {
   "cell_type": "code",
   "execution_count": 1,
   "metadata": {},
   "outputs": [
    {
     "name": "stdout",
     "output_type": "stream",
     "text": [
      "La lista de numeros:  [1, 2, 3, 4, 5]\n",
      "Lista 2:  [4, 3, 2, 4, 5]\n",
      "Numeros:  [1, 2, 3, 4, 5] , Lista 2:  [4, 3, 2, 4, 5]\n"
     ]
    }
   ],
   "source": [
    "# Listas\n",
    "numeros = [1, 2, 3, 4, 5]\n",
    "\n",
    "# Puedo verlos en consola\n",
    "print(\"La lista de numeros: \", numeros)\n",
    "\n",
    "# Creando una segunda lista\n",
    "lista2 = [4, 3, 2, 4, 5]\n",
    "print(\"Lista 2: \", lista2)\n",
    "\n",
    "# Imprimiendo las 2 listas\n",
    "print(\"Numeros: \", numeros, \", Lista 2: \", lista2)\n"
   ]
  },
  {
   "cell_type": "markdown",
   "metadata": {},
   "source": [
    "Listas con cadenas de texto"
   ]
  },
  {
   "cell_type": "code",
   "execution_count": 1,
   "metadata": {},
   "outputs": [
    {
     "name": "stdout",
     "output_type": "stream",
     "text": [
      "Nombres:  ['Juan', 'Pedro', 'Maria']\n"
     ]
    }
   ],
   "source": [
    "\n",
    "# Listas de tipo cadenas de texto (strings)\n",
    "nombres = [\"Juan\", \"Pedro\", \"Maria\"]\n",
    "print(\"Nombres: \", nombres)"
   ]
  },
  {
   "cell_type": "markdown",
   "metadata": {},
   "source": [
    "### Longitud de una lista"
   ]
  },
  {
   "cell_type": "code",
   "execution_count": 17,
   "metadata": {},
   "outputs": [
    {
     "name": "stdout",
     "output_type": "stream",
     "text": [
      "La longitud es:  4\n"
     ]
    }
   ],
   "source": [
    "numeros = [1, 2, 3, 4]\n",
    "print(\"La longitud es: \", len(numeros))"
   ]
  },
  {
   "cell_type": "markdown",
   "metadata": {},
   "source": [
    "## 2. Acceso a las listas"
   ]
  },
  {
   "cell_type": "code",
   "execution_count": 7,
   "metadata": {},
   "outputs": [
    {
     "name": "stdout",
     "output_type": "stream",
     "text": [
      "El primer elemento: 4\n",
      "El primer elemento desde atras:  4\n",
      "Antes de cambiar el elemento 3:  [4, 5, 7, 8, 5, 10]\n",
      "Despues de cambiar el elemento 3:  [4, 5, 7, 24, 5, 10]\n",
      "Despues de cambiar el elemento -4:  [4, 5, 38, 24, 5, 10]\n"
     ]
    }
   ],
   "source": [
    "#          0  1  2  3  4   5\n",
    "numeros = [4, 5, 7, 8, 5, 10]\n",
    "#         -6 -5 -4 -3 -2  -1\n",
    "\n",
    "# Accediendo a un elemnto por posicion: nombre_lista[indice]\n",
    "\n",
    "print(\"El primer elemento:\", numeros[0])\n",
    "print(\"El primer elemento desde atras: \", numeros[-6])\n",
    "\n",
    "# Cambiando el valor de un elemento: nombre_lista[indice] = nuevo_valor\n",
    "print(\"Antes de cambiar el elemento 3: \", numeros)\n",
    "numeros[3] = 24\n",
    "print(\"Despues de cambiar el elemento 3: \", numeros)\n",
    "\n",
    "# cambiando el elemento -4 a 38\n",
    "numeros[-4] = 38\n",
    "print(\"Despues de cambiar el elemento -4: \", numeros)\n"
   ]
  },
  {
   "cell_type": "markdown",
   "metadata": {},
   "source": [
    "### Rebanadas o Slices"
   ]
  },
  {
   "cell_type": "markdown",
   "metadata": {},
   "source": [
    "```python\n",
    "nombre_lista[inicio:fin:paso] => sublista\n",
    "```\n",
    "\n",
    "por defecto (i.e si no se pone)\n",
    "* paso = 1\n",
    "* inicio = 0\n",
    "* fin = longitud de la lista"
   ]
  },
  {
   "cell_type": "code",
   "execution_count": 30,
   "metadata": {},
   "outputs": [
    {
     "name": "stdout",
     "output_type": "stream",
     "text": [
      "Toda la lista [4, 5, 7, 8, 5, 10, 1]\n",
      "Los tres primeros:  [4, 5, 7]\n",
      "Los tres primeros:  [4, 5, 7]\n",
      "Los dos ultimos:  [5, 10, 1]\n",
      "Los dos ultimos:  [5, 10, 1]\n"
     ]
    }
   ],
   "source": [
    "#          0  1  2  3  4   5  6\n",
    "numeros = [4, 5, 7, 8, 5, 10, 1]\n",
    "#         -7 -6 -5 -4 -3 -2  -1\n",
    "\n",
    "# Toda la lista\n",
    "print(\"Toda la lista\", numeros)\n",
    "# print(\"Toda la lista\", numeros[:])\n",
    "# print(\"Toda la lista\", numeros[0:])\n",
    "# print(\"Toda la lista\", numeros[:len(numeros)])\n",
    "# print(\"Toda la lista\", numeros[0:len(numeros)])\n",
    "# \n",
    "# print(\"Toda la lista\", numeros[::])\n",
    "# print(\"Toda la lista\", numeros[::1])\n",
    "# print(\"Toda la lista\", numeros[0::1])\n",
    "# print(\"Toda la lista\", numeros[:len(numeros):1])\n",
    "# print(\"Toda la lista\", numeros[0:len(numeros):1])\n",
    "\n",
    "# Los tres primeros\n",
    "print(\"Los tres primeros: \", numeros[0:3])\n",
    "print(\"Los tres primeros: \", numeros[:3])\n",
    "\n",
    "# Los dos ultimos\n",
    "print(\"Los dos ultimos: \", numeros[-3:])\n",
    "print(\"Los dos ultimos: \", numeros[4:])\n"
   ]
  },
  {
   "cell_type": "code",
   "execution_count": 43,
   "metadata": {},
   "outputs": [
    {
     "name": "stdout",
     "output_type": "stream",
     "text": [
      "Desde 3 hasta el 61:  [4, 5, 6, 7, 13, 41, 13, 61]\n",
      "Posicion impar:  [3, 5, 7, 41, 61]\n",
      "Posicion par:  [3, 4, 6, 13, 13, 31]\n",
      "La lista al contrario:  [31, 61, 13, 41, 13, 7, 6, 5, 4, 3, 3]\n",
      "La lista al reves:  [61, 13, 41, 13, 7, 6, 5, 4, 3]\n"
     ]
    }
   ],
   "source": [
    "numeros = [3, 3, 4, 5, 6, 7, 13, 41, 13, 61, 31]\n",
    "\n",
    "\n",
    "# Desde el segundo hasta el penultimo: [3, ..., 61]\n",
    "print(\"Desde 3 hasta el 61: \", numeros[2:-1])\n",
    "\n",
    "# Los elementos de la posicion impar: [3, 5, 6, ...]\n",
    "print(\"Posicion impar: \", numeros[1::2])\n",
    "\n",
    "# Elementos de la posicion par\n",
    "print(\"Posicion par: \", numeros[::2])\n",
    "\n",
    "# Al contrario\n",
    "print(\"La lista al contrario: \", numeros[::-1])\n",
    "\n",
    "# Al contrario desde el penultimo hasta el primero\n",
    "print(\"La lista al reves: \", numeros[-2:0:-1])"
   ]
  },
  {
   "cell_type": "markdown",
   "metadata": {},
   "source": [
    "## 2. Manejo de lsitas"
   ]
  },
  {
   "cell_type": "markdown",
   "metadata": {},
   "source": [
    "### 2.1 Agregar elementos"
   ]
  },
  {
   "cell_type": "code",
   "execution_count": 46,
   "metadata": {},
   "outputs": [
    {
     "name": "stdout",
     "output_type": "stream",
     "text": [
      "Antes de agregar un elemento: [2, 3, 5, 7]\n",
      "Despues de agregar un elemento: [2, 3, 5, 7, 11]\n"
     ]
    }
   ],
   "source": [
    "numeros = [2, 3, 5, 7]\n",
    "\n",
    "print(\"Antes de agregar un elemento:\", numeros)\n",
    "\n",
    "numeros.append(11)\n",
    "print(\"Despues de agregar un elemento:\", numeros)\n",
    "\n"
   ]
  },
  {
   "cell_type": "markdown",
   "metadata": {},
   "source": [
    "### 2.2 Insertar un elemento"
   ]
  },
  {
   "cell_type": "code",
   "execution_count": 48,
   "metadata": {},
   "outputs": [
    {
     "name": "stdout",
     "output_type": "stream",
     "text": [
      "Antes de insertar un elemento: [2, 3, 5, 7]\n",
      "Despues de insertar un elemento:  [2, 3, 8, 5, 7]\n"
     ]
    }
   ],
   "source": [
    "numeros = [2, 3, 5, 7]\n",
    "\n",
    "print(\"Antes de insertar un elemento:\", numeros)\n",
    "numeros.insert(2, 8)\n",
    "print(\"Despues de insertar un elemento: \", numeros)\n"
   ]
  },
  {
   "cell_type": "code",
   "execution_count": 52,
   "metadata": {},
   "outputs": [
    {
     "name": "stdout",
     "output_type": "stream",
     "text": [
      "Antes de eliminar el ultimo elemento: [2, 3, 5, 7]\n",
      "Despues de eliminar el ultimo elemento: [2, 3, 5]\n",
      "El elemento eliminado es:  7\n",
      "Despues de eliminar el elemento de la posicion 2: [2, 3]\n"
     ]
    }
   ],
   "source": [
    "numeros = [2, 3, 5, 7]\n",
    "\n",
    "# Eliminando el ultimo elemnto\n",
    "print(\"Antes de eliminar el ultimo elemento:\", numeros)\n",
    "eliminado = numeros.pop()\n",
    "print(\"Despues de eliminar el ultimo elemento:\", numeros)\n",
    "print(\"El elemento eliminado es: \", eliminado)\n",
    "\n",
    "# eliminando un elento de la posicion 2 \n",
    "numeros.pop(-1)\n",
    "print(\"Despues de eliminar el elemento de la posicion 2:\", numeros)\n"
   ]
  },
  {
   "cell_type": "markdown",
   "metadata": {},
   "source": [
    "### 2.3 Eliminar un elemento dado"
   ]
  },
  {
   "cell_type": "code",
   "execution_count": 53,
   "metadata": {},
   "outputs": [
    {
     "name": "stdout",
     "output_type": "stream",
     "text": [
      "Antes de eliminar un elemento: [2, 3, 4, 5, 6, 3]\n",
      "Despues de eliminar el elemento de valor 3:  [2, 4, 5, 6, 3]\n"
     ]
    }
   ],
   "source": [
    "numeros = [2, 3, 4, 5, 6, 3]\n",
    "\n",
    "# Eliminando un elemento\n",
    "print(\"Antes de eliminar un elemento:\", numeros)\n",
    "numeros.remove(3)\n",
    "print(\"Despues de eliminar el elemento de valor 3: \", numeros)"
   ]
  },
  {
   "cell_type": "markdown",
   "metadata": {},
   "source": [
    "### 2.4 Ordenar"
   ]
  },
  {
   "cell_type": "code",
   "execution_count": 55,
   "metadata": {},
   "outputs": [
    {
     "name": "stdout",
     "output_type": "stream",
     "text": [
      "Antes de ordenar:  [2, 3, 4, 5, 6, 3]\n",
      "Despues de ordenar:  [2, 3, 3, 4, 5, 6]\n",
      "Antes de ordenar:  [2, 3, 4, 5, 6, 3]\n",
      "Despues de ordenar:  [6, 5, 4, 3, 3, 2]\n"
     ]
    }
   ],
   "source": [
    "numeros = [2, 3, 4, 5, 6, 3]\n",
    "\n",
    "# Ordenando elementos\n",
    "print(\"Antes de ordenar: \", numeros)\n",
    "numeros.sort()\n",
    "print(\"Despues de ordenar: \", numeros)\n",
    "\n",
    "\n",
    "numeros = [2, 3, 4, 5, 6, 3]\n",
    "\n",
    "print(\"Antes de ordenar: \", numeros)\n",
    "numeros.sort(reverse=True)\n",
    "print(\"Despues de ordenar: \", numeros)"
   ]
  },
  {
   "cell_type": "markdown",
   "metadata": {},
   "source": [
    "### 2.5 Suma de listas"
   ]
  },
  {
   "cell_type": "code",
   "execution_count": 60,
   "metadata": {},
   "outputs": [
    {
     "name": "stdout",
     "output_type": "stream",
     "text": [
      "Lista concatenada:  [2, 3, 4, 5, 6, 3, 3, 5, 6, 3, 5, 6, 8]\n",
      "Lista concatenada:  ['Juan', 'Pedro', 'Maria', 'Juanito', 'Cesar', 'Eli']\n"
     ]
    }
   ],
   "source": [
    "numeros1 = [2, 3, 4, 5, 6, 3]\n",
    "numeros2 = [3, 5, 6, 3, 5, 6, 8]\n",
    "\n",
    "# Creando una nueva lista\n",
    "numeros = numeros1 + numeros2\n",
    "print(\"Lista concatenada: \", numeros)\n",
    "\n",
    "# Agregando a nombres nuevos_nombres\n",
    "nombres = [\"Juan\", \"Pedro\", \"Maria\"]\n",
    "nuevos_nombres = [\"Juanito\", \"Cesar\", \"Eli\"]\n",
    "\n",
    "nombres.extend(nuevos_nombres)\n",
    "print(\"Lista concatenada: \", nombres)"
   ]
  }
 ],
 "metadata": {
  "kernelspec": {
   "display_name": "Python 3",
   "language": "python",
   "name": "python3"
  },
  "language_info": {
   "codemirror_mode": {
    "name": "ipython",
    "version": 3
   },
   "file_extension": ".py",
   "mimetype": "text/x-python",
   "name": "python",
   "nbconvert_exporter": "python",
   "pygments_lexer": "ipython3",
   "version": "3.12.2"
  }
 },
 "nbformat": 4,
 "nbformat_minor": 2
}
